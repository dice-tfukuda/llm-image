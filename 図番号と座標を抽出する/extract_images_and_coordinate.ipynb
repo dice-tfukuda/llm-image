{
 "cells": [
  {
   "cell_type": "code",
   "execution_count": 2,
   "id": "9060fe7f-e071-453f-9443-20705e394280",
   "metadata": {
    "tags": []
   },
   "outputs": [],
   "source": [
    "import os\n",
    "import fitz\n",
    "import re\n",
    "import pandas as pd"
   ]
  },
  {
   "cell_type": "code",
   "execution_count": 9,
   "id": "dd8c864a-32bd-4282-a30f-64030691fb14",
   "metadata": {
    "tags": []
   },
   "outputs": [],
   "source": [
    "def extract_figure_info_from_folder(pdf_folder, pattern):\n",
    "    \"\"\"\n",
    "    フォルダ内の複数のPDFファイルから図番号とその座標を抽出し、データフレームに格納する関数。\n",
    "\n",
    "    Args:\n",
    "        pdf_folder (str): PDFファイルが格納されているフォルダのパス。\n",
    "        pattern (str): 図番号の正規表現パターン。\n",
    "\n",
    "    Returns:\n",
    "        pd.DataFrame: 抽出された情報を格納したデータフレーム。\n",
    "    \"\"\"\n",
    "    # データフレームのためのリストを初期化\n",
    "    data = []\n",
    "\n",
    "    # フォルダ内のPDFファイルのリストを取得\n",
    "    pdf_files = [os.path.join(pdf_folder, filename) for filename in os.listdir(pdf_folder) if filename.endswith('.pdf')]\n",
    "\n",
    "    for pdf_file in pdf_files:\n",
    "        pdf_document = fitz.open(pdf_file)\n",
    "\n",
    "        for page_number in range(len(pdf_document)):\n",
    "            page = pdf_document[page_number]\n",
    "            pdf_text = page.get_text()\n",
    "            \n",
    "            matches = re.finditer(pattern, pdf_text)\n",
    "\n",
    "            for match in matches:\n",
    "                match_text = match.group()\n",
    "                # 図番号の座標を取得\n",
    "                bbox = match.span()\n",
    "                x0, y0, x1, y1 = bbox[0], bbox[1], bbox[0] + len(match_text), bbox[1] - len(match_text)\n",
    "                data.append({\n",
    "                    'PDFファイル': os.path.basename(pdf_file),\n",
    "                    'ページ番号': page_number + 1,  # ページ番号をページのインデックスから計算\n",
    "                    '図番号': match_text,\n",
    "                    'x0': x0,\n",
    "                    'y0': y0,\n",
    "                    'x1': x1,\n",
    "                    'y1': y1\n",
    "                })\n",
    "\n",
    "        pdf_document.close()\n",
    "\n",
    "    # データフレームに情報を格納\n",
    "    df = pd.DataFrame(data)\n",
    "\n",
    "    return df\n"
   ]
  },
  {
   "cell_type": "code",
   "execution_count": 10,
   "id": "0c06aceb-94d2-4173-a6cd-a77b9249553c",
   "metadata": {
    "tags": []
   },
   "outputs": [],
   "source": [
    "# 使用例:\n",
    "if __name__ == \"__main__\":\n",
    "    pdf_folder = '../sample-pdf'  # PDFファイルが格納されているフォルダのパス\n",
    "    pattern = r\"【図 [0-9]+\\-[0-9]+】\"  # 図番号の正規表現パターン\n",
    "    result_df = extract_figure_info_from_folder(pdf_folder, pattern)\n",
    "\n",
    "# データフレームをCSVファイルとして保存\n",
    "    result_df.to_csv('figure_info.csv', index=False)\n"
   ]
  },
  {
   "cell_type": "code",
   "execution_count": null,
   "id": "9b2bcc91-e371-48c6-af06-c9e31f7d047c",
   "metadata": {},
   "outputs": [],
   "source": []
  }
 ],
 "metadata": {
  "kernelspec": {
   "display_name": "Python 3 (ipykernel)",
   "language": "python",
   "name": "python3"
  },
  "language_info": {
   "codemirror_mode": {
    "name": "ipython",
    "version": 3
   },
   "file_extension": ".py",
   "mimetype": "text/x-python",
   "name": "python",
   "nbconvert_exporter": "python",
   "pygments_lexer": "ipython3",
   "version": "3.11.4"
  }
 },
 "nbformat": 4,
 "nbformat_minor": 5
}
