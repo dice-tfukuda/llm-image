{
 "cells": [
  {
   "cell_type": "code",
   "execution_count": 6,
   "id": "e20b9ba5-fccb-4959-b738-fa342d702d20",
   "metadata": {
    "tags": []
   },
   "outputs": [
    {
     "name": "stdout",
     "output_type": "stream",
     "text": [
      "Requirement already satisfied: pymupdf in /opt/anaconda3/lib/python3.11/site-packages (1.23.3)\n",
      "Requirement already satisfied: PyMuPDFb==1.23.3 in /opt/anaconda3/lib/python3.11/site-packages (from pymupdf) (1.23.3)\n",
      "\u001b[33mWARNING: Running pip as the 'root' user can result in broken permissions and conflicting behaviour with the system package manager. It is recommended to use a virtual environment instead: https://pip.pypa.io/warnings/venv\u001b[0m\u001b[33m\n",
      "\u001b[0m"
     ]
    }
   ],
   "source": [
    "# PymuPDFライブラリインストール(import fitz)\n",
    "!pip install pymupdf"
   ]
  },
  {
   "cell_type": "code",
   "execution_count": 7,
   "id": "a7420562-112b-4ab9-a0b4-15518211c4f5",
   "metadata": {
    "tags": []
   },
   "outputs": [],
   "source": [
    "import pandas as pd\n",
    "import numpy as np\n",
    "import extract_images\n",
    "import extract_figure"
   ]
  },
  {
   "cell_type": "code",
   "execution_count": 8,
   "id": "bd28d327-df52-4638-825b-45b7a58aaf23",
   "metadata": {
    "tags": []
   },
   "outputs": [],
   "source": [
    "def merge_image_and_figure_info(input_folder, image_csv_filename, output_root_folder, pattern, figure_csv_filename, output_csv):\n",
    "    \"\"\"\n",
    "    画像情報と図番号情報をマージしてCSVファイルに保存する関数。\n",
    "\n",
    "    Args:\n",
    "        input_folder (str): PDFファイルが格納されているフォルダのパス。\n",
    "        image_csv_filename (str): 画像情報出力CSVファイルのパス。\n",
    "        output_root_folder (str): 画像を保存するルートフォルダへのパス。\n",
    "        pattern (str): 図番号の正規表現パターン。\n",
    "        figure_csv_filename (str): 出力CSVファイルのパス。\n",
    "        output_csv (str): 出力CSVファイルのパス。\n",
    "    \"\"\"\n",
    "    # 画像情報と図番号情報を含むデータフレームを作成する\n",
    "    image_info = extract_images.extract_images(input_folder, image_csv_filename, output_root_folder) # 画像情報を取得する関数\n",
    "    figure_info = extract_figure.extract_figure(input_folder, pattern, figure_csv_filename)  # 図番号情報を取得する関数\n",
    "\n",
    "    # マージしたデータを格納するリストを初期化\n",
    "    merged_data = []\n",
    "\n",
    "    # 画像の座標を取得\n",
    "    for _, img_row in image_info.iterrows():\n",
    "        img_page = img_row['ページ番号']\n",
    "        img_x0, img_y0, img_x1, img_y1 = img_row['x0'], img_row['y0'], img_row['x1'], img_row['y1']\n",
    "\n",
    "        # PDFファイルが一致する図番号情報をフィルタリング\n",
    "        matching_figures = figure_info[(figure_info['PDFファイル'] == img_row['PDFファイル'])]\n",
    "\n",
    "        if not matching_figures.empty:\n",
    "            best_match = None\n",
    "            min_distance = np.inf\n",
    "\n",
    "            # 図番号座標を取得\n",
    "            for _, fig_row in matching_figures.iterrows():\n",
    "                fig_x0, fig_y0, fig_x1, fig_y1 = fig_row['x0'], fig_row['y0'], fig_row['x1'], fig_row['y1']\n",
    "\n",
    "                # 画像と図番号の座標の差を計算(ユークリッド距離)\n",
    "                distance = np.sqrt((img_x0 - fig_x0)**2 + (img_y0 - fig_y0)**2)\n",
    "                \n",
    "\n",
    "                # 座標の差が小さい方を選択\n",
    "                if distance < min_distance:\n",
    "                    best_match = fig_row\n",
    "                    min_distance = distance\n",
    "\n",
    "            if best_match is not None:\n",
    "                # 図番号と画像の座標差をデータフレームに保存\n",
    "                x0_diff = img_x0 - best_match['x0']\n",
    "                y0_diff = img_y0 - best_match['y0']\n",
    "                x1_diff = img_x1 - best_match['x1']\n",
    "                y1_diff = img_y1 - best_match['y1']\n",
    "\n",
    "                merged_data.append({\n",
    "                    'PDFファイル': img_row['PDFファイル'],\n",
    "                    'ページ番号': img_page,\n",
    "                    '画像ファイル': img_row['画像ファイル'],\n",
    "                    '図番号': best_match['図番号'],\n",
    "                    'x0_diff': f'{x0_diff:.5f}',\n",
    "                    'y0_diff': f'{y0_diff:.5f}',\n",
    "                    'x1_diff': f'{x1_diff:.5f}',\n",
    "                    'y1_diff': f'{y1_diff:.5f}'\n",
    "                })\n",
    "\n",
    "    # マージしたデータをデータフレームに変換\n",
    "    merged_df = pd.DataFrame(merged_data)\n",
    "\n",
    "    # マージしたデータフレームを保存\n",
    "    merged_df.to_csv(output_csv, index=False)\n"
   ]
  },
  {
   "cell_type": "code",
   "execution_count": 9,
   "id": "562a7afd-2031-4b30-a825-8046dbb4bed6",
   "metadata": {
    "tags": []
   },
   "outputs": [
    {
     "name": "stdout",
     "output_type": "stream",
     "text": [
      "Matched text: 【図 1-1】 at coordinates: (84.95994567871094, 339.4860534667969), (91.95994567871094, 351.6526794433594)\n",
      "Matched text: 【図 1-2】 at coordinates: (84.95994567871094, 1124.7660522460938), (91.95994567871094, 1136.9326782226562)\n",
      "Matched text: 【図 1-3】 at coordinates: (84.95994567871094, 1853.166015625), (91.95994567871094, 1865.3326568603516)\n",
      "Matched text: 【図 1-4】 at coordinates: (84.95994567871094, 2865.2460021972656), (91.95994567871094, 2877.412628173828)\n",
      "Matched text: 【図 1-5】 at coordinates: (84.95994567871094, 3095.166015625), (91.95994567871094, 3107.3327026367188)\n",
      "Matched text: 【図 1-6】 at coordinates: (84.95994567871094, 3736.2059936523438), (91.95994567871094, 3748.3726196289062)\n",
      "Matched text: 【図 1-7】 at coordinates: (84.95994567871094, 4397.885971069336), (91.95994567871094, 4410.0526123046875)\n",
      "Matched text: 【図 1-8】 at coordinates: (84.95994567871094, 5438.765960693359), (91.95994567871094, 5450.932586669922)\n",
      "Matched text: 【図 2-1】 at coordinates: (84.95994567871094, 259.93072509765625), (91.95994567871094, 271.0393981933594)\n",
      "Matched text: 【図 2-2】 at coordinates: (84.95994567871094, 1110.9707336425781), (91.95994567871094, 1122.0794067382812)\n",
      "Matched text: 【図 2-3】 at coordinates: (84.95994567871094, 2035.6907043457031), (91.95994567871094, 2046.7993774414062)\n",
      "Matched text: 【図 2-4】 at coordinates: (84.95994567871094, 2836.0906677246094), (91.95994567871094, 2847.1993408203125)\n",
      "Matched text: 【図 3-1】 at coordinates: (84.95994567871094, 120.54840087890625), (91.95994567871094, 132.18606567382812)\n",
      "Matched text: 【図 3-2】 at coordinates: (460.5259094238281, 300.54840087890625), (467.5259094238281, 312.1860656738281)\n",
      "Matched text: 【図 3-3】 at coordinates: (272.7429504394531, 462.54840087890625), (279.7429504394531, 474.1860656738281)\n",
      "Matched text: 【図 4-1】 at coordinates: (84.95994567871094, 246.54840087890625), (91.95994567871094, 258.1860656738281)\n",
      "Matched text: 【図 4-2】 at coordinates: (84.95994567871094, 732.5484008789062), (91.95994567871094, 744.18603515625)\n",
      "Matched text: 【図 4-3】 at coordinates: (460.5259094238281, 1142.4683837890625), (467.5259094238281, 1154.1060485839844)\n",
      "Matched text: 【図 4-4】 at coordinates: (460.5259094238281, 1574.4683837890625), (467.5259094238281, 1586.1060180664062)\n"
     ]
    }
   ],
   "source": [
    "# 使用例:\n",
    "if __name__ == \"__main__\":\n",
    "    input_folder = '../sample-pdf'  # PDFファイルが格納されているフォルダのパス\n",
    "    image_csv_filename = 'image_info.csv' # 画像情報出力CSVファイルのパス。\n",
    "    output_root_folder = \"output-images\" # 画像を保存するルートフォルダへのパス。\n",
    "    pattern = r\"【図 [0-9]+\\-[0-9]+】\"  # 図番号の正規表現パターン\n",
    "    figure_csv_filename = 'figure_info.csv' # 図番号情報出力CSVファイルのパス。\n",
    "    output_csv = 'merged_info.csv'  # 出力CSVファイルのパス\n",
    "    merge_image_and_figure_info(input_folder, image_csv_filename, output_root_folder, pattern, figure_csv_filename, output_csv)\n"
   ]
  },
  {
   "cell_type": "code",
   "execution_count": null,
   "id": "ad3fec5a-3583-46ac-92f7-11372c9e683f",
   "metadata": {},
   "outputs": [],
   "source": []
  },
  {
   "cell_type": "code",
   "execution_count": null,
   "id": "35d574e5-2d09-4a6a-837b-fabf29041e10",
   "metadata": {},
   "outputs": [],
   "source": []
  }
 ],
 "metadata": {
  "kernelspec": {
   "display_name": "Python 3 (ipykernel)",
   "language": "python",
   "name": "python3"
  },
  "language_info": {
   "codemirror_mode": {
    "name": "ipython",
    "version": 3
   },
   "file_extension": ".py",
   "mimetype": "text/x-python",
   "name": "python",
   "nbconvert_exporter": "python",
   "pygments_lexer": "ipython3",
   "version": "3.11.4"
  }
 },
 "nbformat": 4,
 "nbformat_minor": 5
}
