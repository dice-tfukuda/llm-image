{
 "cells": [
  {
   "cell_type": "markdown",
   "id": "cfd9d930-a4de-4304-95e9-2ea3d634190e",
   "metadata": {},
   "source": [
    "# 概要\n",
    "PDF内の画像と図番号を紐付ける  \n",
    "## 使用文献元\n",
    "〇〇\n",
    "## ライブラリ調査URL\n",
    "〇〇"
   ]
  },
  {
   "cell_type": "markdown",
   "id": "e2988d69-26e0-4c51-a232-43db37582892",
   "metadata": {},
   "source": [
    "# 実装"
   ]
  },
  {
   "cell_type": "code",
   "execution_count": null,
   "id": "1483fe5e-2359-467f-a5f5-5418c6f78623",
   "metadata": {},
   "outputs": [],
   "source": []
  }
 ],
 "metadata": {
  "kernelspec": {
   "display_name": "Python 3 (ipykernel)",
   "language": "python",
   "name": "python3"
  },
  "language_info": {
   "codemirror_mode": {
    "name": "ipython",
    "version": 3
   },
   "file_extension": ".py",
   "mimetype": "text/x-python",
   "name": "python",
   "nbconvert_exporter": "python",
   "pygments_lexer": "ipython3",
   "version": "3.11.4"
  }
 },
 "nbformat": 4,
 "nbformat_minor": 5
}
