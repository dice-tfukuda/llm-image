{
 "cells": [
  {
   "cell_type": "code",
   "execution_count": 9,
   "id": "9536cd4d-3b3a-46a5-970d-cf263ec65263",
   "metadata": {
    "tags": []
   },
   "outputs": [],
   "source": [
    "import os\n",
    "import fitz\n",
    "import pandas as pd"
   ]
  },
  {
   "cell_type": "code",
   "execution_count": 10,
   "id": "8ceed48e-20bf-4350-bd5e-c10bc15b8af5",
   "metadata": {
    "tags": []
   },
   "outputs": [],
   "source": [
    "def extract_images(input_folder, csv_filename):\n",
    "    \"\"\"\n",
    "    指定したフォルダ内の複数のPDFファイルから画像と座標を抽出し、データフレームに保存する関数。\n",
    "\n",
    "    Args:\n",
    "        input_folder (str): PDFファイルが格納されているフォルダへのパス。\n",
    "        csv_filename (str): 出力CSVファイルのパス。\n",
    "    \"\"\"\n",
    "    # データフレームのためのリストを初期化\n",
    "    data = []\n",
    "\n",
    "    pdf_files = [os.path.join(input_folder, filename) for filename in os.listdir(input_folder) if filename.endswith('.pdf')]\n",
    "\n",
    "    for pdf_file in pdf_files:\n",
    "        pdf_document = fitz.open(pdf_file)\n",
    "        pdf_filename = os.path.basename(pdf_file)\n",
    "\n",
    "        for page_number in range(len(pdf_document)):\n",
    "            page = pdf_document[page_number]\n",
    "\n",
    "            image_infos = page.get_image_info(xrefs=True)  # 画像の情報を取得\n",
    "\n",
    "            for img_index, img_info in enumerate(image_infos):\n",
    "                # 位置情報の取得\n",
    "                x0, y0, x1, y1 = img_info['bbox']\n",
    "\n",
    "                # データフレームに情報を追加\n",
    "                data.append({\n",
    "                    'PDFファイル': pdf_filename,\n",
    "                    'ページ番号': page_number + 1,\n",
    "                    '画像インデックス': img_index,\n",
    "                    'x0': x0,\n",
    "                    'y0': y0,\n",
    "                    'x1': x1,\n",
    "                    'y1': y1\n",
    "                })\n",
    "\n",
    "        pdf_document.close()\n",
    "\n",
    "    # データフレームに情報を格納\n",
    "    df = pd.DataFrame(data)\n",
    "\n",
    "    # データフレームをCSVファイルとして保存\n",
    "    df.to_csv(csv_filename, index=False)\n",
    "    return df"
   ]
  },
  {
   "cell_type": "code",
   "execution_count": 11,
   "id": "7daca39e-f8f8-44b9-9d6f-abf0dd8db449",
   "metadata": {
    "tags": []
   },
   "outputs": [],
   "source": [
    "if __name__ == \"__main__\":\n",
    "    input_folder = '../sample-pdf'\n",
    "    csv_filename = 'image_info.csv'\n",
    "    df = extract_images(input_folder, csv_filename)"
   ]
  },
  {
   "cell_type": "code",
   "execution_count": 8,
   "id": "47bb4974-c558-4952-80d9-efc9b8fa68e6",
   "metadata": {
    "tags": []
   },
   "outputs": [
    {
     "name": "stdout",
     "output_type": "stream",
     "text": [
      "[NbConvertApp] Converting notebook extract_images.ipynb to python\n",
      "[NbConvertApp] Writing 1602 bytes to extract_images.py\n"
     ]
    }
   ],
   "source": [
    "!jupyter nbconvert --to python extract_images.ipynb"
   ]
  },
  {
   "cell_type": "code",
   "execution_count": null,
   "id": "ce0d70f9-5a58-46e5-8e44-2c6789977943",
   "metadata": {},
   "outputs": [],
   "source": []
  }
 ],
 "metadata": {
  "kernelspec": {
   "display_name": "Python 3 (ipykernel)",
   "language": "python",
   "name": "python3"
  },
  "language_info": {
   "codemirror_mode": {
    "name": "ipython",
    "version": 3
   },
   "file_extension": ".py",
   "mimetype": "text/x-python",
   "name": "python",
   "nbconvert_exporter": "python",
   "pygments_lexer": "ipython3",
   "version": "3.11.4"
  }
 },
 "nbformat": 4,
 "nbformat_minor": 5
}
