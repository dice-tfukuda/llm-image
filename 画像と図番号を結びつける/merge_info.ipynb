{
 "cells": [
  {
   "cell_type": "code",
   "execution_count": 52,
   "id": "a7420562-112b-4ab9-a0b4-15518211c4f5",
   "metadata": {
    "tags": []
   },
   "outputs": [],
   "source": [
    "import pandas as pd\n",
    "import numpy as np\n",
    "import extract_images\n",
    "import extract_figure_info"
   ]
  },
  {
   "cell_type": "code",
   "execution_count": 53,
   "id": "0a8e7bac-a69e-476f-82cf-7dabd4210292",
   "metadata": {
    "tags": []
   },
   "outputs": [],
   "source": [
    "def merge_image_and_figure_info(image_info_csv, input_folder, pattern, output_csv):\n",
    "    \"\"\"\n",
    "    画像情報と図番号情報をマージしてCSVファイルに保存する関数。\n",
    "\n",
    "    Args:\n",
    "        image_info_csv (str): 画像情報が格納されたCSVファイルのパス。\n",
    "        pdf_folder (str): PDFファイルが格納されているフォルダのパス。\n",
    "        pattern (str): 図番号の正規表現パターン。\n",
    "        output_csv (str): 出力CSVファイルのパス。\n",
    "    \"\"\"\n",
    "    # 画像情報と図番号情報を含むデータフレームを作成する\n",
    "    image_info = pd.read_csv(image_info_csv)  # 画像情報が格納されたCSVファイル\n",
    "    figure_info = extract_figure_info.extract_figure_info_from_folder(pdf_folder, pattern)  # 図番号情報を取得する関数\n",
    "\n",
    "    # マージしたデータを格納するリストを初期化\n",
    "    merged_data = []\n",
    "\n",
    "    for _, img_row in image_info.iterrows():\n",
    "        img_page = img_row['ページ番号']\n",
    "        img_x0, img_y0, img_x1, img_y1 = img_row['x0'], img_row['y0'], img_row['x1'], img_row['y1']\n",
    "\n",
    "        # 一致する図番号情報をフィルタリング\n",
    "        matching_figures = figure_info[\n",
    "            (figure_info['PDFファイル'] == img_row['PDFファイル']) &\n",
    "            (figure_info['ページ番号'] == img_page)\n",
    "        ]\n",
    "\n",
    "        if not matching_figures.empty:\n",
    "            best_match = None\n",
    "            min_distance = np.inf\n",
    "\n",
    "            for _, fig_row in matching_figures.iterrows():\n",
    "                fig_x0, fig_y0, fig_x1, fig_y1 = fig_row['x0'], fig_row['y0'], fig_row['x1'], fig_row['y1']\n",
    "\n",
    "                # 画像と図番号の座標の差を計算\n",
    "                distance = np.sqrt((img_x0 - fig_x0)**2 + (img_y0 - fig_y0)**2)\n",
    "\n",
    "                if distance < min_distance:\n",
    "                    best_match = fig_row\n",
    "                    min_distance = distance\n",
    "\n",
    "            if best_match is not None:\n",
    "                merged_data.append({\n",
    "                    'PDFファイル': img_row['PDFファイル'],\n",
    "                    'ページ番号': img_page,\n",
    "                    '画像ファイル': img_row['画像ファイル'],\n",
    "                    '図番号': best_match['図番号'],\n",
    "                    'x0': img_x0,\n",
    "                    'y0': img_y0,\n",
    "                    'x1': img_x1,\n",
    "                    'y1': img_y1\n",
    "                })\n",
    "\n",
    "    # マージしたデータをデータフレームに変換\n",
    "    merged_df = pd.DataFrame(merged_data)\n",
    "\n",
    "    # マージしたデータフレームを保存\n",
    "    merged_df.to_csv(output_csv, index=False)\n"
   ]
  },
  {
   "cell_type": "code",
   "execution_count": 54,
   "id": "562a7afd-2031-4b30-a825-8046dbb4bed6",
   "metadata": {
    "tags": []
   },
   "outputs": [],
   "source": [
    "# 使用例:\n",
    "if __name__ == \"__main__\":\n",
    "    image_info_csv = 'output-images/image_info.csv'  # 画像情報が格納されたCSVファイルのパス\n",
    "    pdf_folder = '../sample-pdf'  # PDFファイルが格納されているフォルダのパス\n",
    "    pattern = r\"【図 [0-9]+\\-[0-9]+】\"  # 図番号の正規表現パターン\n",
    "    output_csv = 'merged_info.csv'  # 出力CSVファイルのパス\n",
    "    merge_image_and_figure_info(image_info_csv, pdf_folder, pattern, output_csv)\n"
   ]
  },
  {
   "cell_type": "code",
   "execution_count": null,
   "id": "fca859e0-7d62-48bc-a529-3f4414782524",
   "metadata": {},
   "outputs": [],
   "source": []
  }
 ],
 "metadata": {
  "kernelspec": {
   "display_name": "Python 3 (ipykernel)",
   "language": "python",
   "name": "python3"
  },
  "language_info": {
   "codemirror_mode": {
    "name": "ipython",
    "version": 3
   },
   "file_extension": ".py",
   "mimetype": "text/x-python",
   "name": "python",
   "nbconvert_exporter": "python",
   "pygments_lexer": "ipython3",
   "version": "3.11.4"
  }
 },
 "nbformat": 4,
 "nbformat_minor": 5
}
